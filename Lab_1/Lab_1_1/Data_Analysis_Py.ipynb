{
 "cells": [
  {
   "cell_type": "code",
   "execution_count": 5,
   "metadata": {},
   "outputs": [],
   "source": [
    "import pandas as pd\n",
    "import numpy as np"
   ]
  },
  {
   "cell_type": "code",
   "execution_count": 6,
   "metadata": {},
   "outputs": [],
   "source": [
    "df = (pd.read_excel(\"Lab_1_1.xlsx\").dropna())\n",
    "# Set * as NAN and drop NAN\n",
    "df['r2'] = df['r2'].apply(lambda x: x if x!=\"*\" else np.nan)\n",
    "df = df.dropna()\n",
    "df.index = list(range(len(df)))\n",
    "\n",
    "for i in range(10):\n",
    "    df['r1_q'+str(i+1)] = df['r1'].apply(lambda x: x[i]==\"S\")\n",
    "    df['r2_q'+str(i+1)] = df['r2'].apply(lambda x: x[i]==\"S\")\n",
    "\n",
    "df[\"r1_s\"] = (df.loc[:,[\"r1_q\"+str(i+1) for i in range(10)]]).sum(axis=1)\n",
    "df[\"r2_s\"] = (df.loc[:,[\"r2_q\"+str(i+1) for i in range(10)]]).sum(axis=1)\n",
    "df[\"r1_r\"] = (df.loc[:,[\"r1_q\"+str(i+1) for i in range(10)]]==0).sum(axis=1)\n",
    "df[\"r2_r\"] = (df.loc[:,[\"r2_q\"+str(i+1) for i in range(10)]]==0).sum(axis=1)\n",
    "\n",
    "l1 = [df[\"r1_q\"+str(i+1)].sum()/len(df) for i in range(10)]\n",
    "l2 = [df[\"r2_q\"+str(i+1)].sum()/len(df) for i in range(10)]\n",
    "df_p = pd.DataFrame({\"Round1\":l1,\"Round2\":l2})"
   ]
  },
  {
   "cell_type": "code",
   "execution_count": 7,
   "metadata": {},
   "outputs": [],
   "source": [
    "df.iloc[:,2:].to_excel(\"All_1_1.xlsx\",index=False)"
   ]
  },
  {
   "cell_type": "code",
   "execution_count": 111,
   "metadata": {},
   "outputs": [],
   "source": [
    "df_p.to_excel(\"Lab_1_1_prop.xlsx\",index=False)"
   ]
  },
  {
   "cell_type": "code",
   "execution_count": null,
   "metadata": {},
   "outputs": [],
   "source": []
  },
  {
   "cell_type": "code",
   "execution_count": 8,
   "metadata": {},
   "outputs": [],
   "source": [
    "df2 = (pd.read_excel(\"Lab_1_2.xlsx\").dropna())\n",
    "# Set * as NAN and drop NAN\n",
    "\n",
    "df2['r2'] = df2['r2'].apply(lambda x: x if x!=\"*\" else np.nan)\n",
    "df2 = df2.dropna()\n",
    "df2.index = list(range(len(df2)))\n",
    "\n",
    "for i in range(10):\n",
    "    df2['r1_q'+str(i+1)] = df2['r1'].apply(lambda x: x[i]==\"S\")\n",
    "    df2['r2_q'+str(i+1)] = df2['r2'].apply(lambda x: x[i]==\"S\")\n",
    "\n",
    "df2[\"r1_s\"] = (df2.loc[:,[\"r1_q\"+str(i+1) for i in range(10)]]).sum(axis=1)\n",
    "df2[\"r2_s\"] = (df2.loc[:,[\"r2_q\"+str(i+1) for i in range(10)]]).sum(axis=1)\n",
    "df2[\"r1_r\"] = (df2.loc[:,[\"r1_q\"+str(i+1) for i in range(10)]]==0).sum(axis=1)\n",
    "df2[\"r2_r\"] = (df2.loc[:,[\"r2_q\"+str(i+1) for i in range(10)]]==0).sum(axis=1)\n",
    "\n",
    "l1 = [df2[\"r1_q\"+str(i+1)].sum()/len(df2) for i in range(10)]\n",
    "l2 = [df2[\"r2_q\"+str(i+1)].sum()/len(df2) for i in range(10)]\n",
    "df_p2 = pd.DataFrame({\"Round1\":l1,\"Round2\":l2})"
   ]
  },
  {
   "cell_type": "code",
   "execution_count": null,
   "metadata": {},
   "outputs": [],
   "source": []
  },
  {
   "cell_type": "code",
   "execution_count": 9,
   "metadata": {},
   "outputs": [],
   "source": [
    "df2.iloc[:,2:].to_excel(\"All_1_2.xlsx\",index=False)"
   ]
  },
  {
   "cell_type": "code",
   "execution_count": 114,
   "metadata": {},
   "outputs": [],
   "source": [
    "df_p2.to_excel(\"Lab_1_2_prop.xlsx\",index=False)"
   ]
  },
  {
   "cell_type": "code",
   "execution_count": null,
   "metadata": {},
   "outputs": [],
   "source": []
  },
  {
   "cell_type": "code",
   "execution_count": null,
   "metadata": {},
   "outputs": [],
   "source": []
  },
  {
   "cell_type": "code",
   "execution_count": null,
   "metadata": {},
   "outputs": [],
   "source": []
  }
 ],
 "metadata": {
  "kernelspec": {
   "display_name": "Python 3",
   "language": "python",
   "name": "python3"
  },
  "language_info": {
   "codemirror_mode": {
    "name": "ipython",
    "version": 3
   },
   "file_extension": ".py",
   "mimetype": "text/x-python",
   "name": "python",
   "nbconvert_exporter": "python",
   "pygments_lexer": "ipython3",
   "version": "3.7.4"
  }
 },
 "nbformat": 4,
 "nbformat_minor": 4
}
