{
 "cells": [
  {
   "cell_type": "code",
   "execution_count": 1,
   "metadata": {},
   "outputs": [],
   "source": [
    "library(readxl)\n",
    "library(ggplot2)\n",
    "library(gridExtra)\n",
    "library(fmsb)\n",
    "options(warning=-1)"
   ]
  },
  {
   "cell_type": "code",
   "execution_count": null,
   "metadata": {},
   "outputs": [],
   "source": []
  },
  {
   "cell_type": "code",
   "execution_count": 15,
   "metadata": {},
   "outputs": [
    {
     "data": {
      "text/html": [
       "<strong>png:</strong> 2"
      ],
      "text/latex": [
       "\\textbf{png:} 2"
      ],
      "text/markdown": [
       "**png:** 2"
      ],
      "text/plain": [
       "png \n",
       "  2 "
      ]
     },
     "metadata": {},
     "output_type": "display_data"
    }
   ],
   "source": [
    "info <- read_excel(\"Lab_1_1_prop.xlsx\")\n",
    "info.df <- as.data.frame(info)\n",
    "info.m <- as.matrix(info)\n",
    "\n",
    "r1 <- info.m[,1]\n",
    "r2 <- info.m[,2]\n",
    "x=c(1:10)\n",
    "\n",
    "pdf(\"Proportion_of_Safe_Choices_for_Each_Decision_1.pdf\",width = 9,height = 4)\n",
    "# Make a basic graph\n",
    "plot(r1~x , type=\"b\" , bty=\"l\" ,xlab=\"Decision of Group 1\" , ylab=\"Proportion\" , col=rgb(0.2,0.4,0.1,0.7) , lwd=3 , pch=17 , ylim=c(0,1),xaxt = \"n\")\n",
    "axis(side=1,at=x,labels = x)\n",
    "lines(r2~x, col=rgb(0.8,0.4,0.1,0.7) , lwd=3 , pch=19 , type=\"b\" )\n",
    "# Add a legend\n",
    "legend(\"bottomleft\", \n",
    "  legend = c(\"Round 1\", \"Round 2\"), \n",
    "  col = c(rgb(0.2,0.4,0.1,0.7), \n",
    "  rgb(0.8,0.4,0.1,0.7)), \n",
    "  pch = c(17,19), \n",
    "  bty = \"n\", \n",
    "  pt.cex = 2, \n",
    "  cex = 1.2, \n",
    "  text.col = \"black\", \n",
    "  horiz = F, \n",
    "  inset = c(0.1, 0.1))\n",
    "dev.off()"
   ]
  },
  {
   "cell_type": "code",
   "execution_count": 16,
   "metadata": {},
   "outputs": [
    {
     "data": {
      "text/html": [
       "<strong>png:</strong> 2"
      ],
      "text/latex": [
       "\\textbf{png:} 2"
      ],
      "text/markdown": [
       "**png:** 2"
      ],
      "text/plain": [
       "png \n",
       "  2 "
      ]
     },
     "metadata": {},
     "output_type": "display_data"
    }
   ],
   "source": [
    "info <- read_excel(\"Lab_1_2_prop.xlsx\")\n",
    "info.df <- as.data.frame(info)\n",
    "info.m <- as.matrix(info)\n",
    "\n",
    "r1 <- info.m[,1]\n",
    "r2 <- info.m[,2]\n",
    "x=c(1:10)\n",
    "\n",
    "pdf(\"Proportion_of_Safe_Choices_for_Each_Decision_2.pdf\",width = 9,height = 4)\n",
    "# Make a basic graph\n",
    "plot(r1~x , type=\"b\" , bty=\"l\" ,xlab=\"Decision of Group 2\" , ylab=\"Proportion\" , col=rgb(0.2,0.4,0.1,0.7) , lwd=3 , pch=17 , ylim=c(0,1),xaxt = \"n\")\n",
    "axis(side=1,at=x,labels = x)\n",
    "lines(r2~x, col=rgb(0.8,0.4,0.1,0.7) , lwd=3 , pch=19 , type=\"b\" )\n",
    "# Add a legend\n",
    "legend(\"bottomleft\", \n",
    "  legend = c(\"Round 1\", \"Round 2\"), \n",
    "  col = c(rgb(0.2,0.4,0.1,0.7), \n",
    "  rgb(0.8,0.4,0.1,0.7)), \n",
    "  pch = c(17,19), \n",
    "  bty = \"n\", \n",
    "  pt.cex = 2, \n",
    "  cex = 1.2, \n",
    "  text.col = \"black\", \n",
    "  horiz = F, \n",
    "  inset = c(0.1, 0.1))\n",
    "dev.off()"
   ]
  },
  {
   "cell_type": "markdown",
   "metadata": {},
   "source": [
    "# Proportion\n",
    "\n",
    "## Group 1"
   ]
  },
  {
   "cell_type": "code",
   "execution_count": 110,
   "metadata": {},
   "outputs": [],
   "source": [
    "info1 <- read_excel(\"All_1_1.xlsx\")\n",
    "info1.df <- as.data.frame(info1)\n",
    "info1.m <- as.matrix(info1)"
   ]
  },
  {
   "cell_type": "code",
   "execution_count": null,
   "metadata": {},
   "outputs": [],
   "source": []
  },
  {
   "cell_type": "code",
   "execution_count": 3,
   "metadata": {},
   "outputs": [],
   "source": [
    "prop.g1 <- c(sum(info1.m[,\"r1_s\"]<=1)/nrow(info1),\n",
    "          sum(info1.m[,\"r1_s\"]==2)/nrow(info1),\n",
    "          sum(info1.m[,\"r1_s\"]==3)/nrow(info1),\n",
    "          sum(info1.m[,\"r1_s\"]==4)/nrow(info1),\n",
    "          sum(info1.m[,\"r1_s\"]==5)/nrow(info1),\n",
    "          sum(info1.m[,\"r1_s\"]==6)/nrow(info1),\n",
    "          sum(info1.m[,\"r1_s\"]==7)/nrow(info1),\n",
    "          sum(info1.m[,\"r1_s\"]==8)/nrow(info1),\n",
    "          sum(info1.m[,\"r1_s\"]>=9)/nrow(info1))\n",
    "prop.g2 <- c(sum(info1.m[,\"r2_s\"]<=1)/nrow(info1),\n",
    "          sum(info1.m[,\"r2_s\"]==2)/nrow(info1),\n",
    "          sum(info1.m[,\"r2_s\"]==3)/nrow(info1),\n",
    "          sum(info1.m[,\"r2_s\"]==4)/nrow(info1),\n",
    "          sum(info1.m[,\"r2_s\"]==5)/nrow(info1),\n",
    "          sum(info1.m[,\"r2_s\"]==6)/nrow(info1),\n",
    "          sum(info1.m[,\"r2_s\"]==7)/nrow(info1),\n",
    "          sum(info1.m[,\"r2_s\"]==8)/nrow(info1),\n",
    "          sum(info1.m[,\"r2_s\"]>=9)/nrow(info1))"
   ]
  },
  {
   "cell_type": "code",
   "execution_count": 5,
   "metadata": {},
   "outputs": [
    {
     "data": {
      "text/html": [
       "<strong>png:</strong> 2"
      ],
      "text/latex": [
       "\\textbf{png:} 2"
      ],
      "text/markdown": [
       "**png:** 2"
      ],
      "text/plain": [
       "png \n",
       "  2 "
      ]
     },
     "metadata": {},
     "output_type": "display_data"
    }
   ],
   "source": [
    "data <- data.frame(\n",
    "    ra=factor(c(\"highly risk loving\",\"very risk loving\",\"risk loving\",\n",
    "         \"risk neutral\",\"slightly risk averse\",\"risk averse\",\n",
    "         \"very risk averse\",\"highly risk averse\",\"stay in bed\"),levels =c(\"highly risk loving\",\"very risk loving\",\"risk loving\",\n",
    "         \"risk neutral\",\"slightly risk averse\",\"risk averse\",\n",
    "         \"very risk averse\",\"highly risk averse\",\"stay in bed\")),\n",
    "    value1=prop.g1,\n",
    "    value2=prop.g2\n",
    ")\n",
    "\n",
    "pdf(\"Prop_1_1.pdf\",width = 12,height = 4)\n",
    "p1<-ggplot(data) +\n",
    "    geom_bar( aes(x=ra, y=value1), stat=\"identity\", fill=\"skyblue\", alpha=0.7) +\n",
    "    ylab(\"Proportion of Round 1\") + xlab(\"\") + scale_y_continuous(limits=c(0,0.5)) +\n",
    "    theme(axis.text.x = element_text(size = 12),axis.text.y = element_text(size = 12),\n",
    "          panel.border = element_blank(),panel.grid.major = element_blank())+\n",
    "    coord_flip()\n",
    "p2<-ggplot(data) +\n",
    "    geom_bar( aes(x=ra, y=value2), stat=\"identity\", fill=\"orange\", alpha=0.7) +\n",
    "    ylab(\"Proportion of Round 2\") + xlab(\"\") + scale_y_continuous(limits=c(0,0.5)) +\n",
    "    theme(axis.text.x = element_text(size = 12),axis.text.y = element_text(size = 12),\n",
    "         panel.border = element_blank(),panel.grid.major = element_blank()) +\n",
    "    coord_flip()\n",
    "grid.arrange(p1,p2,ncol=2)\n",
    "dev.off()"
   ]
  },
  {
   "cell_type": "markdown",
   "metadata": {},
   "source": [
    "## Group 2"
   ]
  },
  {
   "cell_type": "code",
   "execution_count": 107,
   "metadata": {},
   "outputs": [],
   "source": [
    "info1 <- read_excel(\"All_1_2.xlsx\")\n",
    "info1.df <- as.data.frame(info1)\n",
    "info1.m <- as.matrix(info1)"
   ]
  },
  {
   "cell_type": "code",
   "execution_count": null,
   "metadata": {},
   "outputs": [],
   "source": []
  },
  {
   "cell_type": "code",
   "execution_count": 7,
   "metadata": {},
   "outputs": [],
   "source": [
    "prop.g1 <- c(sum(info1.m[,\"r1_s\"]<=1)/nrow(info1),\n",
    "          sum(info1.m[,\"r1_s\"]==2)/nrow(info1),\n",
    "          sum(info1.m[,\"r1_s\"]==3)/nrow(info1),\n",
    "          sum(info1.m[,\"r1_s\"]==4)/nrow(info1),\n",
    "          sum(info1.m[,\"r1_s\"]==5)/nrow(info1),\n",
    "          sum(info1.m[,\"r1_s\"]==6)/nrow(info1),\n",
    "          sum(info1.m[,\"r1_s\"]==7)/nrow(info1),\n",
    "          sum(info1.m[,\"r1_s\"]==8)/nrow(info1),\n",
    "          sum(info1.m[,\"r1_s\"]>=9)/nrow(info1))\n",
    "prop.g2 <- c(sum(info1.m[,\"r2_s\"]<=1)/nrow(info1),\n",
    "          sum(info1.m[,\"r2_s\"]==2)/nrow(info1),\n",
    "          sum(info1.m[,\"r2_s\"]==3)/nrow(info1),\n",
    "          sum(info1.m[,\"r2_s\"]==4)/nrow(info1),\n",
    "          sum(info1.m[,\"r2_s\"]==5)/nrow(info1),\n",
    "          sum(info1.m[,\"r2_s\"]==6)/nrow(info1),\n",
    "          sum(info1.m[,\"r2_s\"]==7)/nrow(info1),\n",
    "          sum(info1.m[,\"r2_s\"]==8)/nrow(info1),\n",
    "          sum(info1.m[,\"r2_s\"]>=9)/nrow(info1))"
   ]
  },
  {
   "cell_type": "code",
   "execution_count": null,
   "metadata": {},
   "outputs": [],
   "source": []
  },
  {
   "cell_type": "code",
   "execution_count": 8,
   "metadata": {},
   "outputs": [
    {
     "data": {
      "text/html": [
       "<strong>png:</strong> 2"
      ],
      "text/latex": [
       "\\textbf{png:} 2"
      ],
      "text/markdown": [
       "**png:** 2"
      ],
      "text/plain": [
       "png \n",
       "  2 "
      ]
     },
     "metadata": {},
     "output_type": "display_data"
    }
   ],
   "source": [
    "data <- data.frame(\n",
    "    ra=factor(c(\"highly risk loving\",\"very risk loving\",\"risk loving\",\n",
    "         \"risk neutral\",\"slightly risk averse\",\"risk averse\",\n",
    "         \"very risk averse\",\"highly risk averse\",\"stay in bed\"),levels =c(\"highly risk loving\",\"very risk loving\",\"risk loving\",\n",
    "         \"risk neutral\",\"slightly risk averse\",\"risk averse\",\n",
    "         \"very risk averse\",\"highly risk averse\",\"stay in bed\")),\n",
    "    value1=prop.g1,\n",
    "    value2=prop.g2\n",
    ")\n",
    "\n",
    "\n",
    "pdf(\"Prop_1_2.pdf\",width = 12,height = 4)\n",
    "p1<-ggplot(data) +\n",
    "    geom_bar( aes(x=ra, y=value1), stat=\"identity\", fill=\"skyblue\", alpha=0.7) +\n",
    "    ylab(\"Proportion of Round 1\") + xlab(\"\") + scale_y_continuous(limits=c(0,0.5)) +\n",
    "    theme(axis.text.x = element_text(size = 12),axis.text.y = element_text(size = 12),\n",
    "          panel.border = element_blank(),panel.grid.major = element_blank())+\n",
    "    coord_flip()\n",
    "p2<-ggplot(data) +\n",
    "    geom_bar( aes(x=ra, y=value2), stat=\"identity\", fill=\"orange\", alpha=0.7) +\n",
    "    ylab(\"Proportion of Round 2\") + xlab(\"\") + scale_y_continuous(limits=c(0,0.5)) +\n",
    "    theme(axis.text.x = element_text(size = 12),axis.text.y = element_text(size = 12),\n",
    "         panel.border = element_blank(),panel.grid.major = element_blank()) +\n",
    "    coord_flip()\n",
    "grid.arrange(p1,p2,ncol=2)\n",
    "dev.off()"
   ]
  },
  {
   "cell_type": "code",
   "execution_count": null,
   "metadata": {},
   "outputs": [],
   "source": []
  },
  {
   "cell_type": "code",
   "execution_count": null,
   "metadata": {},
   "outputs": [],
   "source": []
  },
  {
   "cell_type": "code",
   "execution_count": null,
   "metadata": {},
   "outputs": [],
   "source": [
    "# Others"
   ]
  },
  {
   "cell_type": "raw",
   "metadata": {},
   "source": [
    "dat <- matrix(c(c(0.1,0.1,0.1,0.5,0.2,9.3,0.7,0.1,0.1),prop.g1,prop.g2),nrow=9,ncol=3)\n",
    "data <-data.frame(\n",
    "    d1 = dat[1,],\n",
    "    d2 = dat[2,],\n",
    "    d3 = dat[3,],\n",
    "    d4 = dat[4,],\n",
    "    d5 = dat[5,],\n",
    "    d6 = dat[6,],\n",
    "    d7 = dat[7,],\n",
    "    d8 = dat[8,],\n",
    "    d9 = dat[9,]\n",
    ")\n",
    "\n",
    "radarchart( data  , axistype=2 , \n",
    "    vlabels = c(\"highly risk loving\",\"very risk loving\",\"risk loving\",\n",
    "         \"risk neutral\",\"slightly risk averse\",\"risk averse\",\n",
    "         \"very risk averse\",\"highly risk averse\",\"stay in bed\"),\n",
    "    #custom polygon\n",
    "    pcol=rgb(0.2,0.5,0.5,0.9) , pfcol=rgb(0.2,0.5,0.5,0.5) , plwd=4 , centerzero=TRUE, \n",
    "     \n",
    "    #custom the grid\n",
    "    cglcol=\"grey\", cglty=1, axislabcol=\"grey\", caxislabels=seq(0,20,5), cglwd=0.8,\n",
    "     \n",
    "    #custom labels\n",
    "    vlcex=0.8 \n",
    "    )"
   ]
  },
  {
   "cell_type": "markdown",
   "metadata": {},
   "source": [
    "# Change of Risk Attitude\n",
    "## Group 1"
   ]
  },
  {
   "cell_type": "code",
   "execution_count": 92,
   "metadata": {},
   "outputs": [],
   "source": [
    "info2 <- read_excel(\"All_1_1.xlsx\")\n",
    "info2.df <- as.data.frame(info2)\n",
    "info2.m <- as.matrix(info2)\n",
    "\n",
    "\n",
    "info2.df[\"r1_att\"] = as.integer(info2.m[,\"r1_s\"]>4) - as.integer(info2.m[,\"r1_s\"]<4)\n",
    "info2.df[\"r2_att\"] = as.integer(info2.m[,\"r2_s\"]>4) - as.integer(info2.m[,\"r2_s\"]<4)\n",
    "info2.m = as.matrix(info2.df)\n",
    "info2.df[\"att_a_a\"] = as.integer(info2.m[,\"r1_att\"]==-1 & info2.m[,\"r2_att\"]==-1)\n",
    "info2.df[\"att_a_n\"] = as.integer(info2.m[,\"r1_att\"]==-1 & info2.m[,\"r2_att\"]==0)\n",
    "info2.df[\"att_a_r\"] = as.integer(info2.m[,\"r1_att\"]==-1 & info2.m[,\"r2_att\"]==1)\n",
    "\n",
    "info2.df[\"att_n_a\"] = as.integer(info2.m[,\"r1_att\"]==0 & info2.m[,\"r2_att\"]==-1)\n",
    "info2.df[\"att_n_n\"] = as.integer(info2.m[,\"r1_att\"]==0 & info2.m[,\"r2_att\"]==0)\n",
    "info2.df[\"att_n_r\"] = as.integer(info2.m[,\"r1_att\"]==0 & info2.m[,\"r2_att\"]==1)\n",
    "\n",
    "info2.df[\"att_r_a\"] = as.integer(info2.m[,\"r1_att\"]==1 & info2.m[,\"r2_att\"]==-1)\n",
    "info2.df[\"att_r_n\"] = as.integer(info2.m[,\"r1_att\"]==1 & info2.m[,\"r2_att\"]==0)\n",
    "info2.df[\"att_r_r\"] = as.integer(info2.m[,\"r1_att\"]==1 & info2.m[,\"r2_att\"]==1)\n",
    "info2.m = as.matrix(info2.df)"
   ]
  },
  {
   "cell_type": "code",
   "execution_count": null,
   "metadata": {},
   "outputs": [],
   "source": []
  },
  {
   "cell_type": "code",
   "execution_count": 93,
   "metadata": {},
   "outputs": [],
   "source": [
    "value <- c()\n",
    "for(i in c(27:35)){\n",
    "    value <- c(value,sum(info2.m[,i]))\n",
    "}"
   ]
  },
  {
   "cell_type": "code",
   "execution_count": null,
   "metadata": {},
   "outputs": [],
   "source": []
  },
  {
   "cell_type": "code",
   "execution_count": 94,
   "metadata": {},
   "outputs": [
    {
     "data": {
      "text/html": [
       "<strong>png:</strong> 2"
      ],
      "text/latex": [
       "\\textbf{png:} 2"
      ],
      "text/markdown": [
       "**png:** 2"
      ],
      "text/plain": [
       "png \n",
       "  2 "
      ]
     },
     "metadata": {},
     "output_type": "display_data"
    }
   ],
   "source": [
    "data <- data.frame(\n",
    "    ra=factor(c(\"Risk Averse -> Risk Averse\",\"Risk Averse -> Risk Neutral\",\"Risk Averse -> Risk Loving\",\n",
    "               \"Risk Neutral -> Risk Averse\",\"Risk Neutral -> Risk Neutral\",\"Risk Neutral -> Risk Loving\",\n",
    "               \"Risk Loving -> Risk Averse\",\"Risk Loving -> Risk Neutral\",\"Risk Loving -> Risk Loving\"),\n",
    "              levels = c(\"Risk Averse -> Risk Averse\",\"Risk Averse -> Risk Neutral\",\"Risk Averse -> Risk Loving\",\n",
    "               \"Risk Neutral -> Risk Averse\",\"Risk Neutral -> Risk Neutral\",\"Risk Neutral -> Risk Loving\",\n",
    "               \"Risk Loving -> Risk Averse\",\"Risk Loving -> Risk Neutral\",\"Risk Loving -> Risk Loving\")),\n",
    "    value=value\n",
    ")\n",
    "\n",
    "pdf(\"Att_Change_1_1.pdf\",width = 9,height = 4)\n",
    "\n",
    "ggplot(data) +\n",
    "    geom_bar( aes(x=ra, y=value), stat=\"identity\", fill=\"skyblue\", alpha=0.7) +\n",
    "    ylab(\"Proportion of Round 1\") + xlab(\"\") +\n",
    "    theme(axis.text.x = element_text(size = 12),axis.text.y = element_text(size = 12),\n",
    "          panel.border = element_blank(),panel.grid.major = element_blank())+\n",
    "    coord_flip()\n",
    "dev.off()"
   ]
  },
  {
   "cell_type": "markdown",
   "metadata": {},
   "source": [
    "## Group 2"
   ]
  },
  {
   "cell_type": "code",
   "execution_count": 96,
   "metadata": {},
   "outputs": [],
   "source": [
    "info2 <- read_excel(\"All_1_2.xlsx\")\n",
    "info2.df <- as.data.frame(info2)\n",
    "info2.m <- as.matrix(info2)\n",
    "\n",
    "\n",
    "info2.df[\"r1_att\"] = as.integer(info2.m[,\"r1_s\"]>4) - as.integer(info2.m[,\"r1_s\"]<4)\n",
    "info2.df[\"r2_att\"] = as.integer(info2.m[,\"r2_s\"]>4) - as.integer(info2.m[,\"r2_s\"]<4)\n",
    "info2.m = as.matrix(info2.df)\n",
    "info2.df[\"att_a_a\"] = as.integer(info2.m[,\"r1_att\"]==-1 & info2.m[,\"r2_att\"]==-1)\n",
    "info2.df[\"att_a_n\"] = as.integer(info2.m[,\"r1_att\"]==-1 & info2.m[,\"r2_att\"]==0)\n",
    "info2.df[\"att_a_r\"] = as.integer(info2.m[,\"r1_att\"]==-1 & info2.m[,\"r2_att\"]==1)\n",
    "\n",
    "info2.df[\"att_n_a\"] = as.integer(info2.m[,\"r1_att\"]==0 & info2.m[,\"r2_att\"]==-1)\n",
    "info2.df[\"att_n_n\"] = as.integer(info2.m[,\"r1_att\"]==0 & info2.m[,\"r2_att\"]==0)\n",
    "info2.df[\"att_n_r\"] = as.integer(info2.m[,\"r1_att\"]==0 & info2.m[,\"r2_att\"]==1)\n",
    "\n",
    "info2.df[\"att_r_a\"] = as.integer(info2.m[,\"r1_att\"]==1 & info2.m[,\"r2_att\"]==-1)\n",
    "info2.df[\"att_r_n\"] = as.integer(info2.m[,\"r1_att\"]==1 & info2.m[,\"r2_att\"]==0)\n",
    "info2.df[\"att_r_r\"] = as.integer(info2.m[,\"r1_att\"]==1 & info2.m[,\"r2_att\"]==1)\n",
    "info2.m = as.matrix(info2.df)"
   ]
  },
  {
   "cell_type": "code",
   "execution_count": 97,
   "metadata": {},
   "outputs": [],
   "source": [
    "value <- c()\n",
    "for(i in c(27:35)){\n",
    "    value <- c(value,sum(info2.m[,i]))\n",
    "}"
   ]
  },
  {
   "cell_type": "code",
   "execution_count": 98,
   "metadata": {},
   "outputs": [
    {
     "data": {
      "text/html": [
       "<strong>png:</strong> 2"
      ],
      "text/latex": [
       "\\textbf{png:} 2"
      ],
      "text/markdown": [
       "**png:** 2"
      ],
      "text/plain": [
       "png \n",
       "  2 "
      ]
     },
     "metadata": {},
     "output_type": "display_data"
    }
   ],
   "source": [
    "data <- data.frame(\n",
    "    ra=factor(c(\"Risk Averse -> Risk Averse\",\"Risk Averse -> Risk Neutral\",\"Risk Averse -> Risk Loving\",\n",
    "               \"Risk Neutral -> Risk Averse\",\"Risk Neutral -> Risk Neutral\",\"Risk Neutral -> Risk Loving\",\n",
    "               \"Risk Loving -> Risk Averse\",\"Risk Loving -> Risk Neutral\",\"Risk Loving -> Risk Loving\"),\n",
    "              levels = c(\"Risk Averse -> Risk Averse\",\"Risk Averse -> Risk Neutral\",\"Risk Averse -> Risk Loving\",\n",
    "               \"Risk Neutral -> Risk Averse\",\"Risk Neutral -> Risk Neutral\",\"Risk Neutral -> Risk Loving\",\n",
    "               \"Risk Loving -> Risk Averse\",\"Risk Loving -> Risk Neutral\",\"Risk Loving -> Risk Loving\")),\n",
    "    value=value\n",
    ")\n",
    "\n",
    "pdf(\"Att_Change_1_2.pdf\",width = 9,height = 4)\n",
    "\n",
    "ggplot(data) +\n",
    "    geom_bar( aes(x=ra, y=value), stat=\"identity\", fill=\"skyblue\", alpha=0.7) +\n",
    "    ylab(\"Proportion of Round 1\") + xlab(\"\") +\n",
    "    theme(axis.text.x = element_text(size = 12),axis.text.y = element_text(size = 12),\n",
    "          panel.border = element_blank(),panel.grid.major = element_blank())+\n",
    "    coord_flip()\n",
    "dev.off()"
   ]
  },
  {
   "cell_type": "code",
   "execution_count": null,
   "metadata": {},
   "outputs": [],
   "source": []
  }
 ],
 "metadata": {
  "kernelspec": {
   "display_name": "R-4.0.4",
   "language": "R",
   "name": "ir-4.0.4"
  },
  "language_info": {
   "codemirror_mode": "r",
   "file_extension": ".r",
   "mimetype": "text/x-r-source",
   "name": "R",
   "pygments_lexer": "r",
   "version": "4.0.4"
  }
 },
 "nbformat": 4,
 "nbformat_minor": 4
}
