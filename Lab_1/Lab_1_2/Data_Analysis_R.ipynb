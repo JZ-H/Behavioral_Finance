{
 "cells": [
  {
   "cell_type": "code",
   "execution_count": 1,
   "metadata": {},
   "outputs": [
    {
     "name": "stderr",
     "output_type": "stream",
     "text": [
      "Loading required package: viridisLite\n",
      "\n"
     ]
    }
   ],
   "source": [
    "library(readxl)\n",
    "library(ggplot2)\n",
    "library(gridExtra)\n",
    "library(fmsb)\n",
    "library(hrbrthemes)\n",
    "library(viridis)\n",
    "options(warning=-1)"
   ]
  },
  {
   "cell_type": "code",
   "execution_count": 135,
   "metadata": {},
   "outputs": [],
   "source": [
    "DA <- function(ind.a,ind.b,gp){\n",
    "    info1 <- na.omit(read_excel(paste(\"Lab_2_\",gp,\".xlsx\",sep = \"\")))\n",
    "    info1 <- info1==\"a\"\n",
    "    q1 <- as.integer(info1[,paste(\"q\",ind.a,sep = \"\")])\n",
    "    q2 <- as.integer(info1[,paste(\"q\",ind.b,sep = \"\")])\n",
    "    num <- length(c(q1))\n",
    "\n",
    "    q1_q2.aa <- sum(q2[q1==1]==1)/num\n",
    "    q1_q2.ab <- sum(q2[q1==1]==0)/num\n",
    "    q1_q2.ba <- sum(q2[q1==0]==1)/num\n",
    "    q1_q2.bb <- sum(q2[q1==0]==0)/num\n",
    "\n",
    "    q1_q2 <- matrix(c(q1_q2.aa,q1_q2.ab,q1_q2.aa+q1_q2.ab,q1_q2.ba,q1_q2.bb,q1_q2.ba+q1_q2.bb,\n",
    "                     q1_q2.aa+q1_q2.ba,q1_q2.ab+q1_q2.bb,1),ncol=3,\n",
    "                    dimnames = list(c(paste(\"Option A in Decision\",ind.b),paste(\"Option B in Decision\",ind.b),\"Sum\"),\n",
    "                                    c(paste(\"Option A in Decision\",ind.a),paste(\"Option B in Decision\",ind.a),\"Sum\")))\n",
    "    return(q1_q2)\n",
    "}"
   ]
  },
  {
   "cell_type": "markdown",
   "metadata": {},
   "source": [
    "# Certainty Effect -- Q 1, 2, 7 and 8"
   ]
  },
  {
   "cell_type": "code",
   "execution_count": 136,
   "metadata": {},
   "outputs": [
    {
     "data": {
      "text/html": [
       "<table class=\"dataframe\">\n",
       "<caption>A matrix: 3 × 3 of type dbl</caption>\n",
       "<thead>\n",
       "\t<tr><th></th><th scope=col>Option A in Decision 1</th><th scope=col>Option B in Decision 1</th><th scope=col>Sum</th></tr>\n",
       "</thead>\n",
       "<tbody>\n",
       "\t<tr><th scope=row>Option A in Decision 2</th><td>0.00000000</td><td>0.000000</td><td>0</td></tr>\n",
       "\t<tr><th scope=row>Option B in Decision 2</th><td>0.03030303</td><td>0.969697</td><td>1</td></tr>\n",
       "\t<tr><th scope=row>Sum</th><td>0.03030303</td><td>0.969697</td><td>1</td></tr>\n",
       "</tbody>\n",
       "</table>\n"
      ],
      "text/latex": [
       "A matrix: 3 × 3 of type dbl\n",
       "\\begin{tabular}{r|lll}\n",
       "  & Option A in Decision 1 & Option B in Decision 1 & Sum\\\\\n",
       "\\hline\n",
       "\tOption A in Decision 2 & 0.00000000 & 0.000000 & 0\\\\\n",
       "\tOption B in Decision 2 & 0.03030303 & 0.969697 & 1\\\\\n",
       "\tSum & 0.03030303 & 0.969697 & 1\\\\\n",
       "\\end{tabular}\n"
      ],
      "text/markdown": [
       "\n",
       "A matrix: 3 × 3 of type dbl\n",
       "\n",
       "| <!--/--> | Option A in Decision 1 | Option B in Decision 1 | Sum |\n",
       "|---|---|---|---|\n",
       "| Option A in Decision 2 | 0.00000000 | 0.000000 | 0 |\n",
       "| Option B in Decision 2 | 0.03030303 | 0.969697 | 1 |\n",
       "| Sum | 0.03030303 | 0.969697 | 1 |\n",
       "\n"
      ],
      "text/plain": [
       "                       Option A in Decision 1 Option B in Decision 1 Sum\n",
       "Option A in Decision 2 0.00000000             0.000000               0  \n",
       "Option B in Decision 2 0.03030303             0.969697               1  \n",
       "Sum                    0.03030303             0.969697               1  "
      ]
     },
     "metadata": {},
     "output_type": "display_data"
    }
   ],
   "source": [
    "DA(1,2,1)"
   ]
  },
  {
   "cell_type": "code",
   "execution_count": 137,
   "metadata": {},
   "outputs": [
    {
     "data": {
      "text/html": [
       "<table class=\"dataframe\">\n",
       "<caption>A matrix: 3 × 3 of type dbl</caption>\n",
       "<thead>\n",
       "\t<tr><th></th><th scope=col>Option A in Decision 1</th><th scope=col>Option B in Decision 1</th><th scope=col>Sum</th></tr>\n",
       "</thead>\n",
       "<tbody>\n",
       "\t<tr><th scope=row>Option A in Decision 2</th><td>0.05084746</td><td>0.01694915</td><td>0.06779661</td></tr>\n",
       "\t<tr><th scope=row>Option B in Decision 2</th><td>0.18644068</td><td>0.74576271</td><td>0.93220339</td></tr>\n",
       "\t<tr><th scope=row>Sum</th><td>0.23728814</td><td>0.76271186</td><td>1.00000000</td></tr>\n",
       "</tbody>\n",
       "</table>\n"
      ],
      "text/latex": [
       "A matrix: 3 × 3 of type dbl\n",
       "\\begin{tabular}{r|lll}\n",
       "  & Option A in Decision 1 & Option B in Decision 1 & Sum\\\\\n",
       "\\hline\n",
       "\tOption A in Decision 2 & 0.05084746 & 0.01694915 & 0.06779661\\\\\n",
       "\tOption B in Decision 2 & 0.18644068 & 0.74576271 & 0.93220339\\\\\n",
       "\tSum & 0.23728814 & 0.76271186 & 1.00000000\\\\\n",
       "\\end{tabular}\n"
      ],
      "text/markdown": [
       "\n",
       "A matrix: 3 × 3 of type dbl\n",
       "\n",
       "| <!--/--> | Option A in Decision 1 | Option B in Decision 1 | Sum |\n",
       "|---|---|---|---|\n",
       "| Option A in Decision 2 | 0.05084746 | 0.01694915 | 0.06779661 |\n",
       "| Option B in Decision 2 | 0.18644068 | 0.74576271 | 0.93220339 |\n",
       "| Sum | 0.23728814 | 0.76271186 | 1.00000000 |\n",
       "\n"
      ],
      "text/plain": [
       "                       Option A in Decision 1 Option B in Decision 1 Sum       \n",
       "Option A in Decision 2 0.05084746             0.01694915             0.06779661\n",
       "Option B in Decision 2 0.18644068             0.74576271             0.93220339\n",
       "Sum                    0.23728814             0.76271186             1.00000000"
      ]
     },
     "metadata": {},
     "output_type": "display_data"
    }
   ],
   "source": [
    "DA(1,2,2)"
   ]
  },
  {
   "cell_type": "markdown",
   "metadata": {},
   "source": [
    "# Common-Consequence Effect -- Q 9 and 10"
   ]
  },
  {
   "cell_type": "code",
   "execution_count": 138,
   "metadata": {},
   "outputs": [
    {
     "data": {
      "text/html": [
       "<table class=\"dataframe\">\n",
       "<caption>A matrix: 3 × 3 of type dbl</caption>\n",
       "<thead>\n",
       "\t<tr><th></th><th scope=col>Option A in Decision 9</th><th scope=col>Option B in Decision 9</th><th scope=col>Sum</th></tr>\n",
       "</thead>\n",
       "<tbody>\n",
       "\t<tr><th scope=row>Option A in Decision 10</th><td>0.45454545</td><td>0.39393939</td><td>0.8484848</td></tr>\n",
       "\t<tr><th scope=row>Option B in Decision 10</th><td>0.09090909</td><td>0.06060606</td><td>0.1515152</td></tr>\n",
       "\t<tr><th scope=row>Sum</th><td>0.54545455</td><td>0.45454545</td><td>1.0000000</td></tr>\n",
       "</tbody>\n",
       "</table>\n"
      ],
      "text/latex": [
       "A matrix: 3 × 3 of type dbl\n",
       "\\begin{tabular}{r|lll}\n",
       "  & Option A in Decision 9 & Option B in Decision 9 & Sum\\\\\n",
       "\\hline\n",
       "\tOption A in Decision 10 & 0.45454545 & 0.39393939 & 0.8484848\\\\\n",
       "\tOption B in Decision 10 & 0.09090909 & 0.06060606 & 0.1515152\\\\\n",
       "\tSum & 0.54545455 & 0.45454545 & 1.0000000\\\\\n",
       "\\end{tabular}\n"
      ],
      "text/markdown": [
       "\n",
       "A matrix: 3 × 3 of type dbl\n",
       "\n",
       "| <!--/--> | Option A in Decision 9 | Option B in Decision 9 | Sum |\n",
       "|---|---|---|---|\n",
       "| Option A in Decision 10 | 0.45454545 | 0.39393939 | 0.8484848 |\n",
       "| Option B in Decision 10 | 0.09090909 | 0.06060606 | 0.1515152 |\n",
       "| Sum | 0.54545455 | 0.45454545 | 1.0000000 |\n",
       "\n"
      ],
      "text/plain": [
       "                        Option A in Decision 9 Option B in Decision 9 Sum      \n",
       "Option A in Decision 10 0.45454545             0.39393939             0.8484848\n",
       "Option B in Decision 10 0.09090909             0.06060606             0.1515152\n",
       "Sum                     0.54545455             0.45454545             1.0000000"
      ]
     },
     "metadata": {},
     "output_type": "display_data"
    }
   ],
   "source": [
    "DA(9,10,1)"
   ]
  },
  {
   "cell_type": "code",
   "execution_count": null,
   "metadata": {},
   "outputs": [],
   "source": []
  },
  {
   "cell_type": "code",
   "execution_count": 144,
   "metadata": {},
   "outputs": [
    {
     "data": {
      "text/html": [
       "<table class=\"dataframe\">\n",
       "<caption>A matrix: 3 × 3 of type dbl</caption>\n",
       "<thead>\n",
       "\t<tr><th></th><th scope=col>Option A in Decision 9</th><th scope=col>Option B in Decision 9</th><th scope=col>Sum</th></tr>\n",
       "</thead>\n",
       "<tbody>\n",
       "\t<tr><th scope=row>Option A in Decision 10</th><td>0.54237288</td><td>0.3050847</td><td>0.8474576</td></tr>\n",
       "\t<tr><th scope=row>Option B in Decision 10</th><td>0.05084746</td><td>0.1016949</td><td>0.1525424</td></tr>\n",
       "\t<tr><th scope=row>Sum</th><td>0.59322034</td><td>0.4067797</td><td>1.0000000</td></tr>\n",
       "</tbody>\n",
       "</table>\n"
      ],
      "text/latex": [
       "A matrix: 3 × 3 of type dbl\n",
       "\\begin{tabular}{r|lll}\n",
       "  & Option A in Decision 9 & Option B in Decision 9 & Sum\\\\\n",
       "\\hline\n",
       "\tOption A in Decision 10 & 0.54237288 & 0.3050847 & 0.8474576\\\\\n",
       "\tOption B in Decision 10 & 0.05084746 & 0.1016949 & 0.1525424\\\\\n",
       "\tSum & 0.59322034 & 0.4067797 & 1.0000000\\\\\n",
       "\\end{tabular}\n"
      ],
      "text/markdown": [
       "\n",
       "A matrix: 3 × 3 of type dbl\n",
       "\n",
       "| <!--/--> | Option A in Decision 9 | Option B in Decision 9 | Sum |\n",
       "|---|---|---|---|\n",
       "| Option A in Decision 10 | 0.54237288 | 0.3050847 | 0.8474576 |\n",
       "| Option B in Decision 10 | 0.05084746 | 0.1016949 | 0.1525424 |\n",
       "| Sum | 0.59322034 | 0.4067797 | 1.0000000 |\n",
       "\n"
      ],
      "text/plain": [
       "                        Option A in Decision 9 Option B in Decision 9 Sum      \n",
       "Option A in Decision 10 0.54237288             0.3050847              0.8474576\n",
       "Option B in Decision 10 0.05084746             0.1016949              0.1525424\n",
       "Sum                     0.59322034             0.4067797              1.0000000"
      ]
     },
     "metadata": {},
     "output_type": "display_data"
    }
   ],
   "source": [
    "DA(9,10,2)"
   ]
  },
  {
   "cell_type": "markdown",
   "metadata": {},
   "source": [
    "# Common Ratio Effect -- Q 3 and 4"
   ]
  },
  {
   "cell_type": "code",
   "execution_count": 140,
   "metadata": {},
   "outputs": [
    {
     "data": {
      "text/html": [
       "<table class=\"dataframe\">\n",
       "<caption>A matrix: 3 × 3 of type dbl</caption>\n",
       "<thead>\n",
       "\t<tr><th></th><th scope=col>Option A in Decision 3</th><th scope=col>Option B in Decision 3</th><th scope=col>Sum</th></tr>\n",
       "</thead>\n",
       "<tbody>\n",
       "\t<tr><th scope=row>Option A in Decision 4</th><td>0.24242424</td><td>0.4242424</td><td>0.6666667</td></tr>\n",
       "\t<tr><th scope=row>Option B in Decision 4</th><td>0.06060606</td><td>0.2727273</td><td>0.3333333</td></tr>\n",
       "\t<tr><th scope=row>Sum</th><td>0.30303030</td><td>0.6969697</td><td>1.0000000</td></tr>\n",
       "</tbody>\n",
       "</table>\n"
      ],
      "text/latex": [
       "A matrix: 3 × 3 of type dbl\n",
       "\\begin{tabular}{r|lll}\n",
       "  & Option A in Decision 3 & Option B in Decision 3 & Sum\\\\\n",
       "\\hline\n",
       "\tOption A in Decision 4 & 0.24242424 & 0.4242424 & 0.6666667\\\\\n",
       "\tOption B in Decision 4 & 0.06060606 & 0.2727273 & 0.3333333\\\\\n",
       "\tSum & 0.30303030 & 0.6969697 & 1.0000000\\\\\n",
       "\\end{tabular}\n"
      ],
      "text/markdown": [
       "\n",
       "A matrix: 3 × 3 of type dbl\n",
       "\n",
       "| <!--/--> | Option A in Decision 3 | Option B in Decision 3 | Sum |\n",
       "|---|---|---|---|\n",
       "| Option A in Decision 4 | 0.24242424 | 0.4242424 | 0.6666667 |\n",
       "| Option B in Decision 4 | 0.06060606 | 0.2727273 | 0.3333333 |\n",
       "| Sum | 0.30303030 | 0.6969697 | 1.0000000 |\n",
       "\n"
      ],
      "text/plain": [
       "                       Option A in Decision 3 Option B in Decision 3 Sum      \n",
       "Option A in Decision 4 0.24242424             0.4242424              0.6666667\n",
       "Option B in Decision 4 0.06060606             0.2727273              0.3333333\n",
       "Sum                    0.30303030             0.6969697              1.0000000"
      ]
     },
     "metadata": {},
     "output_type": "display_data"
    }
   ],
   "source": [
    "DA(3,4,1)"
   ]
  },
  {
   "cell_type": "code",
   "execution_count": 141,
   "metadata": {},
   "outputs": [
    {
     "data": {
      "text/html": [
       "<table class=\"dataframe\">\n",
       "<caption>A matrix: 3 × 3 of type dbl</caption>\n",
       "<thead>\n",
       "\t<tr><th></th><th scope=col>Option A in Decision 3</th><th scope=col>Option B in Decision 3</th><th scope=col>Sum</th></tr>\n",
       "</thead>\n",
       "<tbody>\n",
       "\t<tr><th scope=row>Option A in Decision 4</th><td>0.15254237</td><td>0.5084746</td><td>0.6610169</td></tr>\n",
       "\t<tr><th scope=row>Option B in Decision 4</th><td>0.01694915</td><td>0.3220339</td><td>0.3389831</td></tr>\n",
       "\t<tr><th scope=row>Sum</th><td>0.16949153</td><td>0.8305085</td><td>1.0000000</td></tr>\n",
       "</tbody>\n",
       "</table>\n"
      ],
      "text/latex": [
       "A matrix: 3 × 3 of type dbl\n",
       "\\begin{tabular}{r|lll}\n",
       "  & Option A in Decision 3 & Option B in Decision 3 & Sum\\\\\n",
       "\\hline\n",
       "\tOption A in Decision 4 & 0.15254237 & 0.5084746 & 0.6610169\\\\\n",
       "\tOption B in Decision 4 & 0.01694915 & 0.3220339 & 0.3389831\\\\\n",
       "\tSum & 0.16949153 & 0.8305085 & 1.0000000\\\\\n",
       "\\end{tabular}\n"
      ],
      "text/markdown": [
       "\n",
       "A matrix: 3 × 3 of type dbl\n",
       "\n",
       "| <!--/--> | Option A in Decision 3 | Option B in Decision 3 | Sum |\n",
       "|---|---|---|---|\n",
       "| Option A in Decision 4 | 0.15254237 | 0.5084746 | 0.6610169 |\n",
       "| Option B in Decision 4 | 0.01694915 | 0.3220339 | 0.3389831 |\n",
       "| Sum | 0.16949153 | 0.8305085 | 1.0000000 |\n",
       "\n"
      ],
      "text/plain": [
       "                       Option A in Decision 3 Option B in Decision 3 Sum      \n",
       "Option A in Decision 4 0.15254237             0.5084746              0.6610169\n",
       "Option B in Decision 4 0.01694915             0.3220339              0.3389831\n",
       "Sum                    0.16949153             0.8305085              1.0000000"
      ]
     },
     "metadata": {},
     "output_type": "display_data"
    }
   ],
   "source": [
    "DA(3,4,2)"
   ]
  },
  {
   "cell_type": "markdown",
   "metadata": {},
   "source": [
    "# Reflection Effect -- Q 5 and 6"
   ]
  },
  {
   "cell_type": "code",
   "execution_count": 142,
   "metadata": {},
   "outputs": [
    {
     "data": {
      "text/html": [
       "<table class=\"dataframe\">\n",
       "<caption>A matrix: 3 × 3 of type dbl</caption>\n",
       "<thead>\n",
       "\t<tr><th></th><th scope=col>Option A in Decision 5</th><th scope=col>Option B in Decision 5</th><th scope=col>Sum</th></tr>\n",
       "</thead>\n",
       "<tbody>\n",
       "\t<tr><th scope=row>Option A in Decision 6</th><td>0.1363636</td><td>0.03030303</td><td>0.1666667</td></tr>\n",
       "\t<tr><th scope=row>Option B in Decision 6</th><td>0.7272727</td><td>0.10606061</td><td>0.8333333</td></tr>\n",
       "\t<tr><th scope=row>Sum</th><td>0.8636364</td><td>0.13636364</td><td>1.0000000</td></tr>\n",
       "</tbody>\n",
       "</table>\n"
      ],
      "text/latex": [
       "A matrix: 3 × 3 of type dbl\n",
       "\\begin{tabular}{r|lll}\n",
       "  & Option A in Decision 5 & Option B in Decision 5 & Sum\\\\\n",
       "\\hline\n",
       "\tOption A in Decision 6 & 0.1363636 & 0.03030303 & 0.1666667\\\\\n",
       "\tOption B in Decision 6 & 0.7272727 & 0.10606061 & 0.8333333\\\\\n",
       "\tSum & 0.8636364 & 0.13636364 & 1.0000000\\\\\n",
       "\\end{tabular}\n"
      ],
      "text/markdown": [
       "\n",
       "A matrix: 3 × 3 of type dbl\n",
       "\n",
       "| <!--/--> | Option A in Decision 5 | Option B in Decision 5 | Sum |\n",
       "|---|---|---|---|\n",
       "| Option A in Decision 6 | 0.1363636 | 0.03030303 | 0.1666667 |\n",
       "| Option B in Decision 6 | 0.7272727 | 0.10606061 | 0.8333333 |\n",
       "| Sum | 0.8636364 | 0.13636364 | 1.0000000 |\n",
       "\n"
      ],
      "text/plain": [
       "                       Option A in Decision 5 Option B in Decision 5 Sum      \n",
       "Option A in Decision 6 0.1363636              0.03030303             0.1666667\n",
       "Option B in Decision 6 0.7272727              0.10606061             0.8333333\n",
       "Sum                    0.8636364              0.13636364             1.0000000"
      ]
     },
     "metadata": {},
     "output_type": "display_data"
    }
   ],
   "source": [
    "DA(5,6,1)"
   ]
  },
  {
   "cell_type": "code",
   "execution_count": 143,
   "metadata": {},
   "outputs": [
    {
     "data": {
      "text/html": [
       "<table class=\"dataframe\">\n",
       "<caption>A matrix: 3 × 3 of type dbl</caption>\n",
       "<thead>\n",
       "\t<tr><th></th><th scope=col>Option A in Decision 5</th><th scope=col>Option B in Decision 5</th><th scope=col>Sum</th></tr>\n",
       "</thead>\n",
       "<tbody>\n",
       "\t<tr><th scope=row>Option A in Decision 6</th><td>0.1186441</td><td>0.01694915</td><td>0.1355932</td></tr>\n",
       "\t<tr><th scope=row>Option B in Decision 6</th><td>0.8135593</td><td>0.05084746</td><td>0.8644068</td></tr>\n",
       "\t<tr><th scope=row>Sum</th><td>0.9322034</td><td>0.06779661</td><td>1.0000000</td></tr>\n",
       "</tbody>\n",
       "</table>\n"
      ],
      "text/latex": [
       "A matrix: 3 × 3 of type dbl\n",
       "\\begin{tabular}{r|lll}\n",
       "  & Option A in Decision 5 & Option B in Decision 5 & Sum\\\\\n",
       "\\hline\n",
       "\tOption A in Decision 6 & 0.1186441 & 0.01694915 & 0.1355932\\\\\n",
       "\tOption B in Decision 6 & 0.8135593 & 0.05084746 & 0.8644068\\\\\n",
       "\tSum & 0.9322034 & 0.06779661 & 1.0000000\\\\\n",
       "\\end{tabular}\n"
      ],
      "text/markdown": [
       "\n",
       "A matrix: 3 × 3 of type dbl\n",
       "\n",
       "| <!--/--> | Option A in Decision 5 | Option B in Decision 5 | Sum |\n",
       "|---|---|---|---|\n",
       "| Option A in Decision 6 | 0.1186441 | 0.01694915 | 0.1355932 |\n",
       "| Option B in Decision 6 | 0.8135593 | 0.05084746 | 0.8644068 |\n",
       "| Sum | 0.9322034 | 0.06779661 | 1.0000000 |\n",
       "\n"
      ],
      "text/plain": [
       "                       Option A in Decision 5 Option B in Decision 5 Sum      \n",
       "Option A in Decision 6 0.1186441              0.01694915             0.1355932\n",
       "Option B in Decision 6 0.8135593              0.05084746             0.8644068\n",
       "Sum                    0.9322034              0.06779661             1.0000000"
      ]
     },
     "metadata": {},
     "output_type": "display_data"
    }
   ],
   "source": [
    "DA(5,6,2)"
   ]
  },
  {
   "cell_type": "markdown",
   "metadata": {},
   "source": [
    "# Preference Reversal -- Q 7 and 8"
   ]
  },
  {
   "cell_type": "code",
   "execution_count": 147,
   "metadata": {},
   "outputs": [
    {
     "data": {
      "text/html": [
       "<table class=\"dataframe\">\n",
       "<caption>A matrix: 3 × 3 of type dbl</caption>\n",
       "<thead>\n",
       "\t<tr><th></th><th scope=col>Option A in Decision 7</th><th scope=col>Option B in Decision 7</th><th scope=col>Sum</th></tr>\n",
       "</thead>\n",
       "<tbody>\n",
       "\t<tr><th scope=row>Option A in Decision 8</th><td>0.21212121</td><td>0.5151515</td><td>0.7272727</td></tr>\n",
       "\t<tr><th scope=row>Option B in Decision 8</th><td>0.07575758</td><td>0.1969697</td><td>0.2727273</td></tr>\n",
       "\t<tr><th scope=row>Sum</th><td>0.28787879</td><td>0.7121212</td><td>1.0000000</td></tr>\n",
       "</tbody>\n",
       "</table>\n"
      ],
      "text/latex": [
       "A matrix: 3 × 3 of type dbl\n",
       "\\begin{tabular}{r|lll}\n",
       "  & Option A in Decision 7 & Option B in Decision 7 & Sum\\\\\n",
       "\\hline\n",
       "\tOption A in Decision 8 & 0.21212121 & 0.5151515 & 0.7272727\\\\\n",
       "\tOption B in Decision 8 & 0.07575758 & 0.1969697 & 0.2727273\\\\\n",
       "\tSum & 0.28787879 & 0.7121212 & 1.0000000\\\\\n",
       "\\end{tabular}\n"
      ],
      "text/markdown": [
       "\n",
       "A matrix: 3 × 3 of type dbl\n",
       "\n",
       "| <!--/--> | Option A in Decision 7 | Option B in Decision 7 | Sum |\n",
       "|---|---|---|---|\n",
       "| Option A in Decision 8 | 0.21212121 | 0.5151515 | 0.7272727 |\n",
       "| Option B in Decision 8 | 0.07575758 | 0.1969697 | 0.2727273 |\n",
       "| Sum | 0.28787879 | 0.7121212 | 1.0000000 |\n",
       "\n"
      ],
      "text/plain": [
       "                       Option A in Decision 7 Option B in Decision 7 Sum      \n",
       "Option A in Decision 8 0.21212121             0.5151515              0.7272727\n",
       "Option B in Decision 8 0.07575758             0.1969697              0.2727273\n",
       "Sum                    0.28787879             0.7121212              1.0000000"
      ]
     },
     "metadata": {},
     "output_type": "display_data"
    }
   ],
   "source": [
    "DA(7,8,1)"
   ]
  },
  {
   "cell_type": "code",
   "execution_count": 148,
   "metadata": {},
   "outputs": [
    {
     "data": {
      "text/html": [
       "<table class=\"dataframe\">\n",
       "<caption>A matrix: 3 × 3 of type dbl</caption>\n",
       "<thead>\n",
       "\t<tr><th></th><th scope=col>Option A in Decision 7</th><th scope=col>Option B in Decision 7</th><th scope=col>Sum</th></tr>\n",
       "</thead>\n",
       "<tbody>\n",
       "\t<tr><th scope=row>Option A in Decision 8</th><td>0.25423729</td><td>0.5084746</td><td>0.7627119</td></tr>\n",
       "\t<tr><th scope=row>Option B in Decision 8</th><td>0.06779661</td><td>0.1694915</td><td>0.2372881</td></tr>\n",
       "\t<tr><th scope=row>Sum</th><td>0.32203390</td><td>0.6779661</td><td>1.0000000</td></tr>\n",
       "</tbody>\n",
       "</table>\n"
      ],
      "text/latex": [
       "A matrix: 3 × 3 of type dbl\n",
       "\\begin{tabular}{r|lll}\n",
       "  & Option A in Decision 7 & Option B in Decision 7 & Sum\\\\\n",
       "\\hline\n",
       "\tOption A in Decision 8 & 0.25423729 & 0.5084746 & 0.7627119\\\\\n",
       "\tOption B in Decision 8 & 0.06779661 & 0.1694915 & 0.2372881\\\\\n",
       "\tSum & 0.32203390 & 0.6779661 & 1.0000000\\\\\n",
       "\\end{tabular}\n"
      ],
      "text/markdown": [
       "\n",
       "A matrix: 3 × 3 of type dbl\n",
       "\n",
       "| <!--/--> | Option A in Decision 7 | Option B in Decision 7 | Sum |\n",
       "|---|---|---|---|\n",
       "| Option A in Decision 8 | 0.25423729 | 0.5084746 | 0.7627119 |\n",
       "| Option B in Decision 8 | 0.06779661 | 0.1694915 | 0.2372881 |\n",
       "| Sum | 0.32203390 | 0.6779661 | 1.0000000 |\n",
       "\n"
      ],
      "text/plain": [
       "                       Option A in Decision 7 Option B in Decision 7 Sum      \n",
       "Option A in Decision 8 0.25423729             0.5084746              0.7627119\n",
       "Option B in Decision 8 0.06779661             0.1694915              0.2372881\n",
       "Sum                    0.32203390             0.6779661              1.0000000"
      ]
     },
     "metadata": {},
     "output_type": "display_data"
    }
   ],
   "source": [
    "DA(7,8,2)"
   ]
  },
  {
   "cell_type": "code",
   "execution_count": null,
   "metadata": {},
   "outputs": [],
   "source": []
  }
 ],
 "metadata": {
  "kernelspec": {
   "display_name": "R-4.0.4",
   "language": "R",
   "name": "ir-4.0.4"
  },
  "language_info": {
   "codemirror_mode": "r",
   "file_extension": ".r",
   "mimetype": "text/x-r-source",
   "name": "R",
   "pygments_lexer": "r",
   "version": "4.0.4"
  }
 },
 "nbformat": 4,
 "nbformat_minor": 4
}
